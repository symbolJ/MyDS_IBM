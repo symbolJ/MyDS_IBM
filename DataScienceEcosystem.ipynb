{
 "cells": [
  {
   "cell_type": "markdown",
   "id": "24a71555",
   "metadata": {},
   "source": [
    "# Data Science Tools and Ecosystem\n",
    "\n",
    "In this notebook, Data Science Tools and Ecosystem are summarized."
   ]
  },
  {
   "cell_type": "markdown",
   "id": "aba267fc",
   "metadata": {},
   "source": [
    "**Objectives:**\n",
    "- List popular languages used in Data Science\n",
    "- List commonly used libraries in Data Science\n",
    "- Learn to use markdown\n",
    "- Learn to use arithmetic expressions in Python\n"
   ]
  },
  {
   "cell_type": "markdown",
   "id": "3c06fd3c",
   "metadata": {},
   "source": [
    "Some of the popular languages that Data Scientists use are:\n",
    "- Python\n",
    "- R\n",
    "- Julia    "
   ]
  },
  {
   "cell_type": "markdown",
   "id": "b046406d",
   "metadata": {},
   "source": [
    "Some of the commonly used libraries used by Data Scientists include:\n",
    "- Python libraries such as: matplotlib\n",
    "- pandas\n",
    "- numpy\n",
    "- scikit-learn\n",
    "- tensorflow\n",
    "- pytorch"
   ]
  },
  {
   "cell_type": "markdown",
   "id": "fe9cfec2",
   "metadata": {},
   "source": [
    "| Data Science Tools |\n",
    "---\n",
    "| Jupiter Notebook |\n",
    "| Zeppelin Notebook |\n",
    "| Hadoop |\n",
    "| Apache Spark |"
   ]
  },
  {
   "cell_type": "markdown",
   "id": "d18175d1",
   "metadata": {},
   "source": [
    "### Below are a few examples of evaluating arithmetic expressions in Python.\n"
   ]
  },
  {
   "cell_type": "code",
   "execution_count": 3,
   "id": "6969a1f9",
   "metadata": {},
   "outputs": [
    {
     "data": {
      "text/plain": [
       "17"
      ]
     },
     "execution_count": 3,
     "metadata": {},
     "output_type": "execute_result"
    }
   ],
   "source": [
    "# This a simple arithmetic expression to mutiply then add integers.\n",
    "\n",
    "(3*4)+5"
   ]
  },
  {
   "cell_type": "code",
   "execution_count": 18,
   "id": "da96a2ad",
   "metadata": {},
   "outputs": [
    {
     "name": "stdout",
     "output_type": "stream",
     "text": [
      "200 minutes are equivalent to 3 hours and 20 minutes.\n"
     ]
    }
   ],
   "source": [
    "# This will convert 200 minutes to hours by dividing by 60.\n",
    "\n",
    "hour = int(200 // 60)\n",
    "min = int(200 % 60)\n",
    "print(\"200 minutes are equivalent to\", hour, \"hours and\", min, \"minutes.\")"
   ]
  },
  {
   "cell_type": "markdown",
   "id": "29646c0b",
   "metadata": {},
   "source": [
    "## Author\n",
    "Kibbeum Na"
   ]
  },
  {
   "cell_type": "code",
   "execution_count": null,
   "id": "b683c2c6",
   "metadata": {},
   "outputs": [],
   "source": []
  }
 ],
 "metadata": {
  "kernelspec": {
   "display_name": "Python 3 (ipykernel)",
   "language": "python",
   "name": "python3"
  },
  "language_info": {
   "codemirror_mode": {
    "name": "ipython",
    "version": 3
   },
   "file_extension": ".py",
   "mimetype": "text/x-python",
   "name": "python",
   "nbconvert_exporter": "python",
   "pygments_lexer": "ipython3",
   "version": "3.10.9"
  }
 },
 "nbformat": 4,
 "nbformat_minor": 5
}
